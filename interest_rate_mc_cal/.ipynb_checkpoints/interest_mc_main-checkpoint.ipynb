{
 "cells": [
  {
   "cell_type": "code",
   "execution_count": 1,
   "id": "c774a486-19ea-4442-bfa0-6aad688ec6b7",
   "metadata": {},
   "outputs": [],
   "source": [
    "import pandas as pd\n",
    "import numpy as np\n",
    "from datetime import datetime\n",
    "from dateutil.relativedelta import relativedelta\n",
    "from tqdm import tqdm\n",
    "import sys\n",
    "from openpyxl import load_workbook\n",
    "from openpyxl.styles import Font, Alignment, Border, Side\n",
    "from openpyxl.utils import get_column_letter\n",
    "import json\n",
    "from cashflow_cal import parse_date,get_last_day_of_month,is_same_month,generate_cashflows\n",
    "from interest_curve_cal import interpolate_stress_params,load_rate_curve,validate_rate_curve,apply_stress_to_curve,interpolate_rate_curve,annual_to_monthly\n",
    "from mc_cal import discount_cashflows\n",
    "from tools import read_config,beautify_excel"
   ]
  },
  {
   "cell_type": "code",
   "execution_count": 2,
   "id": "a6bc6c80-1be7-4382-80ff-26729f75a26a",
   "metadata": {},
   "outputs": [
    {
     "name": "stdout",
     "output_type": "stream",
     "text": [
      "参数配置文件:myconfig23.json\n",
      "===== 第0步：读取配置信息 =====\n",
      "已读取以下配置信息：\n",
      "file_path: C:/Users/Mario/Documents/Python/cashflow/interest_rate_mc_cal/bond_20250430.xlsx\n",
      "start_date: 20250430\n",
      "curve_path: C:/Users/Mario/Documents/Python/cashflow/interest_rate_mc_cal/curve_20250430.xlsx\n",
      "stress_data:default\n",
      "output_path: 利率风险最低资本.xlsx\n",
      "\n",
      "===== 第1步：计算现金流 =====\n",
      "正在计算现金流...\n"
     ]
    },
    {
     "name": "stderr",
     "output_type": "stream",
     "text": [
      "计算现金流: 100%|█████████████████████████████| 601/601 [00:09<00:00, 60.83月/s]\n"
     ]
    },
    {
     "name": "stdout",
     "output_type": "stream",
     "text": [
      "共处理 8691 只债券，覆盖 601 个月\n",
      "\n",
      "===== 第2步：计算折现率曲线 =====\n",
      "✅ 成功加载利率曲线，包含 50 个期限点\n",
      "   期限范围: 1年 ~ 50年\n",
      "已处理600个月折现率曲线\n",
      "\n",
      "===== 第3步：计算利率风险最低资本 =====\n",
      "最低资本已计算完成并保存到: 20250430mc.xlsx\n",
      "优化后Excel文件已并保存至: 20250430利率风险最低资本.xlsx\n",
      "\n",
      "===== 已完成计算 =====\n"
     ]
    }
   ],
   "source": [
    "def main(config_path):\n",
    "    print(\"===== 第0步：读取配置信息 =====\")\n",
    "    config = read_config(config_path)\n",
    "    if config:\n",
    "        file_path = config.get(\"file_path\")\n",
    "        start_date = config.get(\"start_date\")\n",
    "        curve_path = config.get(\"curve_path\")\n",
    "        data = config.get(\"stress_data\")\n",
    "        output = config.get(\"output_file\")\n",
    "        # 打印读取的参数（用于测试）\n",
    "        print(\"已读取以下配置信息：\")\n",
    "        print(f\"file_path: {file_path}\")\n",
    "        print(f\"start_date: {start_date}\")\n",
    "        print(f\"curve_path: {curve_path}\")\n",
    "        print(\"stress_data:default\")\n",
    "        print(f\"output_path: {output}\")\n",
    "  \n",
    "    print(\"\\n===== 第1步：计算现金流 =====\")\n",
    "        # 检查文件路径是否提供\n",
    "    if not file_path:\n",
    "        print(\"错误: 未提供文件路径\")\n",
    "        sys.exit(1)\n",
    "    \n",
    "    # 获取开始日期\n",
    "    #start_date = input(\"请输入开始日期 (格式: YYYYMMDD, 例如: 20250101): \").strip()\n",
    "    \n",
    "    if not start_date:\n",
    "        print(\"错误: 未提供开始日期\")\n",
    "        sys.exit(1)\n",
    "    \n",
    "    # 生成现金流表\n",
    "    print(\"正在计算现金流...\")\n",
    "    result_df, principal_result_df, coupon_result_df = generate_cashflows(file_path, start_date, months=601)\n",
    "    print(f\"共处理 {len(result_df)} 只债券，覆盖 {result_df.shape[1]-5} 个月\")\n",
    "\n",
    "    \n",
    "    print(\"\\n===== 第2步：计算折现率曲线 =====\")\n",
    "    param_df = pd.DataFrame(data)\n",
    "    rate_curve_df = load_rate_curve(curve_path,sheet_name=\"Export\")\n",
    "    combined_df = interpolate_stress_params(param_df, term_col='期限', up_col='利率向上压力参数', \n",
    "                                            down_col='利率向下压力参数', start_term=20, end_term=40)\n",
    "    rate_curve_df=apply_stress_to_curve(rate_curve_df, combined_df, base_rate_col='rate', \n",
    "                                        term_col='date', up_param_col='利率向上压力参数', \n",
    "                                        down_param_col='利率向下压力参数')\n",
    "    rate_curve_df = interpolate_rate_curve(rate_curve_df, combined_df, ultimate_rate=4.5, premium_base_1=0.45,premium_base_2=0)\n",
    "    monthly_df = annual_to_monthly(rate_curve_df, rate_cols=['rate_4', 'rate_up_4', 'rate_down_4'])\n",
    "    #output_file = input(\"请输入输出Excel文件名 (例如: curve2.xlsx): \").strip() or \"curve2.xlsx\"\n",
    "    #monthly_df.to_excel(output_file)\n",
    "    print(f\"已处理{len(monthly_df)}个月折现率曲线\")\n",
    "\n",
    "    print(\"\\n===== 第3步：计算利率风险最低资本 =====\")\n",
    "    #date = input(\"请输入日期（例如：20250101）: \").strip()\n",
    "    column_count = len(result_df.columns)\n",
    "    result = discount_cashflows(result_df, monthly_df, cashflow_start_col=column_count - 601)\n",
    "    output_file = start_date+'mc.xlsx'\n",
    "    result.to_excel(output_file)\n",
    "    print(f\"最低资本已计算完成并保存到: {output_file}\")\n",
    "\n",
    "    beautify_excel(\n",
    "        input_file=output_file,\n",
    "        output_file=start_date+output,\n",
    "        header=True,\n",
    "        thousands_sep=True,\n",
    "        auto_fit=True\n",
    "    )\n",
    "    print(\"\\n===== 已完成计算 =====\")\n",
    "\n",
    "if __name__ == \"__main__\":\n",
    "    config_path = input(\"参数配置文件:\").strip() \n",
    "    #config_path = r\"D:\\PythonScripts\\cashflow\\myconfig.json\"\n",
    "    main(config_path)"
   ]
  },
  {
   "cell_type": "code",
   "execution_count": null,
   "id": "edab2a32",
   "metadata": {},
   "outputs": [],
   "source": []
  }
 ],
 "metadata": {
  "kernelspec": {
   "display_name": "Python 3 (ipykernel)",
   "language": "python",
   "name": "python3"
  },
  "language_info": {
   "codemirror_mode": {
    "name": "ipython",
    "version": 3
   },
   "file_extension": ".py",
   "mimetype": "text/x-python",
   "name": "python",
   "nbconvert_exporter": "python",
   "pygments_lexer": "ipython3",
   "version": "3.8.13"
  },
  "varInspector": {
   "cols": {
    "lenName": 16,
    "lenType": 16,
    "lenVar": 40
   },
   "kernels_config": {
    "python": {
     "delete_cmd_postfix": "",
     "delete_cmd_prefix": "del ",
     "library": "var_list.py",
     "varRefreshCmd": "print(var_dic_list())"
    },
    "r": {
     "delete_cmd_postfix": ") ",
     "delete_cmd_prefix": "rm(",
     "library": "var_list.r",
     "varRefreshCmd": "cat(var_dic_list()) "
    }
   },
   "types_to_exclude": [
    "module",
    "function",
    "builtin_function_or_method",
    "instance",
    "_Feature"
   ],
   "window_display": false
  }
 },
 "nbformat": 4,
 "nbformat_minor": 5
}
